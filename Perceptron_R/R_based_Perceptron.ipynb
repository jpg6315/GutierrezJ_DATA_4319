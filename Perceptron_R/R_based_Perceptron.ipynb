{
 "cells": [
  {
   "cell_type": "markdown",
   "metadata": {},
   "source": [
    "&nbsp;                                                                                                                            \n",
    "&nbsp;\n",
    "\n",
    "# <center> <h1>R based Perceptron</h1> </center> "
   ]
  },
  {
   "cell_type": "code",
   "execution_count": 1,
   "metadata": {},
   "outputs": [],
   "source": [
    "x1 <- runif(30,-1,1)                     #GENERATE DATA USING RANDOM UNIF\n",
    "x2 <- runif(30,-1,1)"
   ]
  },
  {
   "cell_type": "code",
   "execution_count": 2,
   "metadata": {},
   "outputs": [
    {
     "data": {
      "text/html": [
       "<ol class=list-inline>\n",
       "\t<li>-0.318977659568191</li>\n",
       "\t<li>-0.871595026459545</li>\n",
       "\t<li>-0.928991273976862</li>\n",
       "\t<li>-0.11065696971491</li>\n",
       "\t<li>0.939862844068557</li>\n",
       "\t<li>-0.367203984875232</li>\n",
       "\t<li>0.254013269674033</li>\n",
       "\t<li>-0.73384658433497</li>\n",
       "\t<li>0.246498866006732</li>\n",
       "\t<li>0.671333312056959</li>\n",
       "\t<li>-0.237765684258193</li>\n",
       "\t<li>-0.798349308781326</li>\n",
       "\t<li>0.739964092615992</li>\n",
       "\t<li>-0.450612897053361</li>\n",
       "\t<li>0.628881158772856</li>\n",
       "\t<li>0.115568619221449</li>\n",
       "\t<li>0.755065367091447</li>\n",
       "\t<li>-0.483900565654039</li>\n",
       "\t<li>-0.665148823987693</li>\n",
       "\t<li>0.835314941592515</li>\n",
       "\t<li>-0.242828228510916</li>\n",
       "\t<li>-0.0685225669294596</li>\n",
       "\t<li>-0.640634840819985</li>\n",
       "\t<li>-0.879733564797789</li>\n",
       "\t<li>-0.407249007374048</li>\n",
       "\t<li>0.308815483469516</li>\n",
       "\t<li>-0.40896071260795</li>\n",
       "\t<li>-0.769119943957776</li>\n",
       "\t<li>-0.550724460743368</li>\n",
       "\t<li>0.456581943668425</li>\n",
       "</ol>\n"
      ],
      "text/latex": [
       "\\begin{enumerate*}\n",
       "\\item -0.318977659568191\n",
       "\\item -0.871595026459545\n",
       "\\item -0.928991273976862\n",
       "\\item -0.11065696971491\n",
       "\\item 0.939862844068557\n",
       "\\item -0.367203984875232\n",
       "\\item 0.254013269674033\n",
       "\\item -0.73384658433497\n",
       "\\item 0.246498866006732\n",
       "\\item 0.671333312056959\n",
       "\\item -0.237765684258193\n",
       "\\item -0.798349308781326\n",
       "\\item 0.739964092615992\n",
       "\\item -0.450612897053361\n",
       "\\item 0.628881158772856\n",
       "\\item 0.115568619221449\n",
       "\\item 0.755065367091447\n",
       "\\item -0.483900565654039\n",
       "\\item -0.665148823987693\n",
       "\\item 0.835314941592515\n",
       "\\item -0.242828228510916\n",
       "\\item -0.0685225669294596\n",
       "\\item -0.640634840819985\n",
       "\\item -0.879733564797789\n",
       "\\item -0.407249007374048\n",
       "\\item 0.308815483469516\n",
       "\\item -0.40896071260795\n",
       "\\item -0.769119943957776\n",
       "\\item -0.550724460743368\n",
       "\\item 0.456581943668425\n",
       "\\end{enumerate*}\n"
      ],
      "text/markdown": [
       "1. -0.318977659568191\n",
       "2. -0.871595026459545\n",
       "3. -0.928991273976862\n",
       "4. -0.11065696971491\n",
       "5. 0.939862844068557\n",
       "6. -0.367203984875232\n",
       "7. 0.254013269674033\n",
       "8. -0.73384658433497\n",
       "9. 0.246498866006732\n",
       "10. 0.671333312056959\n",
       "11. -0.237765684258193\n",
       "12. -0.798349308781326\n",
       "13. 0.739964092615992\n",
       "14. -0.450612897053361\n",
       "15. 0.628881158772856\n",
       "16. 0.115568619221449\n",
       "17. 0.755065367091447\n",
       "18. -0.483900565654039\n",
       "19. -0.665148823987693\n",
       "20. 0.835314941592515\n",
       "21. -0.242828228510916\n",
       "22. -0.0685225669294596\n",
       "23. -0.640634840819985\n",
       "24. -0.879733564797789\n",
       "25. -0.407249007374048\n",
       "26. 0.308815483469516\n",
       "27. -0.40896071260795\n",
       "28. -0.769119943957776\n",
       "29. -0.550724460743368\n",
       "30. 0.456581943668425\n",
       "\n",
       "\n"
      ],
      "text/plain": [
       " [1] -0.31897766 -0.87159503 -0.92899127 -0.11065697  0.93986284 -0.36720398\n",
       " [7]  0.25401327 -0.73384658  0.24649887  0.67133331 -0.23776568 -0.79834931\n",
       "[13]  0.73996409 -0.45061290  0.62888116  0.11556862  0.75506537 -0.48390057\n",
       "[19] -0.66514882  0.83531494 -0.24282823 -0.06852257 -0.64063484 -0.87973356\n",
       "[25] -0.40724901  0.30881548 -0.40896071 -0.76911994 -0.55072446  0.45658194"
      ]
     },
     "metadata": {},
     "output_type": "display_data"
    }
   ],
   "source": [
    "x1                                       #LOOK AT X1 VARIABLE"
   ]
  },
  {
   "cell_type": "code",
   "execution_count": 3,
   "metadata": {},
   "outputs": [
    {
     "data": {
      "text/html": [
       "<ol class=list-inline>\n",
       "\t<li>0.58309328276664</li>\n",
       "\t<li>-0.511917199473828</li>\n",
       "\t<li>-0.636047472245991</li>\n",
       "\t<li>-0.71862819744274</li>\n",
       "\t<li>0.255732014309615</li>\n",
       "\t<li>0.638842443935573</li>\n",
       "\t<li>0.532017508521676</li>\n",
       "\t<li>0.34858109569177</li>\n",
       "\t<li>-0.938852031249553</li>\n",
       "\t<li>-0.360172152053565</li>\n",
       "\t<li>-0.295785432681441</li>\n",
       "\t<li>-0.500002453569323</li>\n",
       "\t<li>-0.933106505312026</li>\n",
       "\t<li>0.671638342551887</li>\n",
       "\t<li>0.440532688982785</li>\n",
       "\t<li>-0.799195821862668</li>\n",
       "\t<li>0.957343922462314</li>\n",
       "\t<li>-0.440041292458773</li>\n",
       "\t<li>-0.109493514057249</li>\n",
       "\t<li>-0.139733313582838</li>\n",
       "\t<li>-0.856867442373186</li>\n",
       "\t<li>0.998536168131977</li>\n",
       "\t<li>-0.64570434903726</li>\n",
       "\t<li>-0.0281841978430748</li>\n",
       "\t<li>-0.446236612275243</li>\n",
       "\t<li>-0.750071576330811</li>\n",
       "\t<li>0.441436201334</li>\n",
       "\t<li>-0.190285306423903</li>\n",
       "\t<li>0.961958461906761</li>\n",
       "\t<li>0.049352356698364</li>\n",
       "</ol>\n"
      ],
      "text/latex": [
       "\\begin{enumerate*}\n",
       "\\item 0.58309328276664\n",
       "\\item -0.511917199473828\n",
       "\\item -0.636047472245991\n",
       "\\item -0.71862819744274\n",
       "\\item 0.255732014309615\n",
       "\\item 0.638842443935573\n",
       "\\item 0.532017508521676\n",
       "\\item 0.34858109569177\n",
       "\\item -0.938852031249553\n",
       "\\item -0.360172152053565\n",
       "\\item -0.295785432681441\n",
       "\\item -0.500002453569323\n",
       "\\item -0.933106505312026\n",
       "\\item 0.671638342551887\n",
       "\\item 0.440532688982785\n",
       "\\item -0.799195821862668\n",
       "\\item 0.957343922462314\n",
       "\\item -0.440041292458773\n",
       "\\item -0.109493514057249\n",
       "\\item -0.139733313582838\n",
       "\\item -0.856867442373186\n",
       "\\item 0.998536168131977\n",
       "\\item -0.64570434903726\n",
       "\\item -0.0281841978430748\n",
       "\\item -0.446236612275243\n",
       "\\item -0.750071576330811\n",
       "\\item 0.441436201334\n",
       "\\item -0.190285306423903\n",
       "\\item 0.961958461906761\n",
       "\\item 0.049352356698364\n",
       "\\end{enumerate*}\n"
      ],
      "text/markdown": [
       "1. 0.58309328276664\n",
       "2. -0.511917199473828\n",
       "3. -0.636047472245991\n",
       "4. -0.71862819744274\n",
       "5. 0.255732014309615\n",
       "6. 0.638842443935573\n",
       "7. 0.532017508521676\n",
       "8. 0.34858109569177\n",
       "9. -0.938852031249553\n",
       "10. -0.360172152053565\n",
       "11. -0.295785432681441\n",
       "12. -0.500002453569323\n",
       "13. -0.933106505312026\n",
       "14. 0.671638342551887\n",
       "15. 0.440532688982785\n",
       "16. -0.799195821862668\n",
       "17. 0.957343922462314\n",
       "18. -0.440041292458773\n",
       "19. -0.109493514057249\n",
       "20. -0.139733313582838\n",
       "21. -0.856867442373186\n",
       "22. 0.998536168131977\n",
       "23. -0.64570434903726\n",
       "24. -0.0281841978430748\n",
       "25. -0.446236612275243\n",
       "26. -0.750071576330811\n",
       "27. 0.441436201334\n",
       "28. -0.190285306423903\n",
       "29. 0.961958461906761\n",
       "30. 0.049352356698364\n",
       "\n",
       "\n"
      ],
      "text/plain": [
       " [1]  0.58309328 -0.51191720 -0.63604747 -0.71862820  0.25573201  0.63884244\n",
       " [7]  0.53201751  0.34858110 -0.93885203 -0.36017215 -0.29578543 -0.50000245\n",
       "[13] -0.93310651  0.67163834  0.44053269 -0.79919582  0.95734392 -0.44004129\n",
       "[19] -0.10949351 -0.13973331 -0.85686744  0.99853617 -0.64570435 -0.02818420\n",
       "[25] -0.44623661 -0.75007158  0.44143620 -0.19028531  0.96195846  0.04935236"
      ]
     },
     "metadata": {},
     "output_type": "display_data"
    }
   ],
   "source": [
    "x2                                        #LOOK AT X2 VARIABLE"
   ]
  },
  {
   "cell_type": "code",
   "execution_count": 4,
   "metadata": {},
   "outputs": [],
   "source": [
    "x <- cbind(x1,x2)                          #PUTTING X1 AND X2 TOGETHER"
   ]
  },
  {
   "cell_type": "markdown",
   "metadata": {},
   "source": [
    "<img align=\"center\" width=\"300\" height=\"150\" src=\"cbind.png\">"
   ]
  },
  {
   "cell_type": "code",
   "execution_count": 5,
   "metadata": {},
   "outputs": [
    {
     "data": {
      "text/html": [
       "<table>\n",
       "<thead><tr><th scope=col>x1</th><th scope=col>x2</th></tr></thead>\n",
       "<tbody>\n",
       "\t<tr><td>-0.31897766</td><td> 0.58309328</td></tr>\n",
       "\t<tr><td>-0.87159503</td><td>-0.51191720</td></tr>\n",
       "\t<tr><td>-0.92899127</td><td>-0.63604747</td></tr>\n",
       "\t<tr><td>-0.11065697</td><td>-0.71862820</td></tr>\n",
       "\t<tr><td> 0.93986284</td><td> 0.25573201</td></tr>\n",
       "\t<tr><td>-0.36720398</td><td> 0.63884244</td></tr>\n",
       "\t<tr><td> 0.25401327</td><td> 0.53201751</td></tr>\n",
       "\t<tr><td>-0.73384658</td><td> 0.34858110</td></tr>\n",
       "\t<tr><td> 0.24649887</td><td>-0.93885203</td></tr>\n",
       "\t<tr><td> 0.67133331</td><td>-0.36017215</td></tr>\n",
       "\t<tr><td>-0.23776568</td><td>-0.29578543</td></tr>\n",
       "\t<tr><td>-0.79834931</td><td>-0.50000245</td></tr>\n",
       "\t<tr><td> 0.73996409</td><td>-0.93310651</td></tr>\n",
       "\t<tr><td>-0.45061290</td><td> 0.67163834</td></tr>\n",
       "\t<tr><td> 0.62888116</td><td> 0.44053269</td></tr>\n",
       "\t<tr><td> 0.11556862</td><td>-0.79919582</td></tr>\n",
       "\t<tr><td> 0.75506537</td><td> 0.95734392</td></tr>\n",
       "\t<tr><td>-0.48390057</td><td>-0.44004129</td></tr>\n",
       "\t<tr><td>-0.66514882</td><td>-0.10949351</td></tr>\n",
       "\t<tr><td> 0.83531494</td><td>-0.13973331</td></tr>\n",
       "\t<tr><td>-0.24282823</td><td>-0.85686744</td></tr>\n",
       "\t<tr><td>-0.06852257</td><td> 0.99853617</td></tr>\n",
       "\t<tr><td>-0.64063484</td><td>-0.64570435</td></tr>\n",
       "\t<tr><td>-0.87973356</td><td>-0.02818420</td></tr>\n",
       "\t<tr><td>-0.40724901</td><td>-0.44623661</td></tr>\n",
       "\t<tr><td> 0.30881548</td><td>-0.75007158</td></tr>\n",
       "\t<tr><td>-0.40896071</td><td> 0.44143620</td></tr>\n",
       "\t<tr><td>-0.76911994</td><td>-0.19028531</td></tr>\n",
       "\t<tr><td>-0.55072446</td><td> 0.96195846</td></tr>\n",
       "\t<tr><td> 0.45658194</td><td> 0.04935236</td></tr>\n",
       "</tbody>\n",
       "</table>\n"
      ],
      "text/latex": [
       "\\begin{tabular}{ll}\n",
       " x1 & x2\\\\\n",
       "\\hline\n",
       "\t -0.31897766 &  0.58309328\\\\\n",
       "\t -0.87159503 & -0.51191720\\\\\n",
       "\t -0.92899127 & -0.63604747\\\\\n",
       "\t -0.11065697 & -0.71862820\\\\\n",
       "\t  0.93986284 &  0.25573201\\\\\n",
       "\t -0.36720398 &  0.63884244\\\\\n",
       "\t  0.25401327 &  0.53201751\\\\\n",
       "\t -0.73384658 &  0.34858110\\\\\n",
       "\t  0.24649887 & -0.93885203\\\\\n",
       "\t  0.67133331 & -0.36017215\\\\\n",
       "\t -0.23776568 & -0.29578543\\\\\n",
       "\t -0.79834931 & -0.50000245\\\\\n",
       "\t  0.73996409 & -0.93310651\\\\\n",
       "\t -0.45061290 &  0.67163834\\\\\n",
       "\t  0.62888116 &  0.44053269\\\\\n",
       "\t  0.11556862 & -0.79919582\\\\\n",
       "\t  0.75506537 &  0.95734392\\\\\n",
       "\t -0.48390057 & -0.44004129\\\\\n",
       "\t -0.66514882 & -0.10949351\\\\\n",
       "\t  0.83531494 & -0.13973331\\\\\n",
       "\t -0.24282823 & -0.85686744\\\\\n",
       "\t -0.06852257 &  0.99853617\\\\\n",
       "\t -0.64063484 & -0.64570435\\\\\n",
       "\t -0.87973356 & -0.02818420\\\\\n",
       "\t -0.40724901 & -0.44623661\\\\\n",
       "\t  0.30881548 & -0.75007158\\\\\n",
       "\t -0.40896071 &  0.44143620\\\\\n",
       "\t -0.76911994 & -0.19028531\\\\\n",
       "\t -0.55072446 &  0.96195846\\\\\n",
       "\t  0.45658194 &  0.04935236\\\\\n",
       "\\end{tabular}\n"
      ],
      "text/markdown": [
       "\n",
       "x1 | x2 | \n",
       "|---|---|---|---|---|---|---|---|---|---|---|---|---|---|---|---|---|---|---|---|---|---|---|---|---|---|---|---|---|---|\n",
       "| -0.31897766 |  0.58309328 | \n",
       "| -0.87159503 | -0.51191720 | \n",
       "| -0.92899127 | -0.63604747 | \n",
       "| -0.11065697 | -0.71862820 | \n",
       "|  0.93986284 |  0.25573201 | \n",
       "| -0.36720398 |  0.63884244 | \n",
       "|  0.25401327 |  0.53201751 | \n",
       "| -0.73384658 |  0.34858110 | \n",
       "|  0.24649887 | -0.93885203 | \n",
       "|  0.67133331 | -0.36017215 | \n",
       "| -0.23776568 | -0.29578543 | \n",
       "| -0.79834931 | -0.50000245 | \n",
       "|  0.73996409 | -0.93310651 | \n",
       "| -0.45061290 |  0.67163834 | \n",
       "|  0.62888116 |  0.44053269 | \n",
       "|  0.11556862 | -0.79919582 | \n",
       "|  0.75506537 |  0.95734392 | \n",
       "| -0.48390057 | -0.44004129 | \n",
       "| -0.66514882 | -0.10949351 | \n",
       "|  0.83531494 | -0.13973331 | \n",
       "| -0.24282823 | -0.85686744 | \n",
       "| -0.06852257 |  0.99853617 | \n",
       "| -0.64063484 | -0.64570435 | \n",
       "| -0.87973356 | -0.02818420 | \n",
       "| -0.40724901 | -0.44623661 | \n",
       "|  0.30881548 | -0.75007158 | \n",
       "| -0.40896071 |  0.44143620 | \n",
       "| -0.76911994 | -0.19028531 | \n",
       "| -0.55072446 |  0.96195846 | \n",
       "|  0.45658194 |  0.04935236 | \n",
       "\n",
       "\n"
      ],
      "text/plain": [
       "      x1          x2         \n",
       " [1,] -0.31897766  0.58309328\n",
       " [2,] -0.87159503 -0.51191720\n",
       " [3,] -0.92899127 -0.63604747\n",
       " [4,] -0.11065697 -0.71862820\n",
       " [5,]  0.93986284  0.25573201\n",
       " [6,] -0.36720398  0.63884244\n",
       " [7,]  0.25401327  0.53201751\n",
       " [8,] -0.73384658  0.34858110\n",
       " [9,]  0.24649887 -0.93885203\n",
       "[10,]  0.67133331 -0.36017215\n",
       "[11,] -0.23776568 -0.29578543\n",
       "[12,] -0.79834931 -0.50000245\n",
       "[13,]  0.73996409 -0.93310651\n",
       "[14,] -0.45061290  0.67163834\n",
       "[15,]  0.62888116  0.44053269\n",
       "[16,]  0.11556862 -0.79919582\n",
       "[17,]  0.75506537  0.95734392\n",
       "[18,] -0.48390057 -0.44004129\n",
       "[19,] -0.66514882 -0.10949351\n",
       "[20,]  0.83531494 -0.13973331\n",
       "[21,] -0.24282823 -0.85686744\n",
       "[22,] -0.06852257  0.99853617\n",
       "[23,] -0.64063484 -0.64570435\n",
       "[24,] -0.87973356 -0.02818420\n",
       "[25,] -0.40724901 -0.44623661\n",
       "[26,]  0.30881548 -0.75007158\n",
       "[27,] -0.40896071  0.44143620\n",
       "[28,] -0.76911994 -0.19028531\n",
       "[29,] -0.55072446  0.96195846\n",
       "[30,]  0.45658194  0.04935236"
      ]
     },
     "metadata": {},
     "output_type": "display_data"
    }
   ],
   "source": [
    "x                                         # x is now the data frame of x1 and x2"
   ]
  },
  {
   "cell_type": "code",
   "execution_count": 7,
   "metadata": {},
   "outputs": [],
   "source": [
    "Y <- ifelse(x2>0.5+x1,+1,-1)              # This is very interesting, so, if x2 is greater than: 0.5 + x1 -> if true\n",
    "                                          # then give 1, if not true give -1"
   ]
  },
  {
   "cell_type": "code",
   "execution_count": 8,
   "metadata": {},
   "outputs": [
    {
     "data": {
      "text/html": [
       "<ol class=list-inline>\n",
       "\t<li>1</li>\n",
       "\t<li>-1</li>\n",
       "\t<li>-1</li>\n",
       "\t<li>-1</li>\n",
       "\t<li>-1</li>\n",
       "\t<li>1</li>\n",
       "\t<li>-1</li>\n",
       "\t<li>1</li>\n",
       "\t<li>-1</li>\n",
       "\t<li>-1</li>\n",
       "\t<li>-1</li>\n",
       "\t<li>-1</li>\n",
       "\t<li>-1</li>\n",
       "\t<li>1</li>\n",
       "\t<li>-1</li>\n",
       "\t<li>-1</li>\n",
       "\t<li>-1</li>\n",
       "\t<li>-1</li>\n",
       "\t<li>1</li>\n",
       "\t<li>-1</li>\n",
       "\t<li>-1</li>\n",
       "\t<li>1</li>\n",
       "\t<li>-1</li>\n",
       "\t<li>1</li>\n",
       "\t<li>-1</li>\n",
       "\t<li>-1</li>\n",
       "\t<li>1</li>\n",
       "\t<li>1</li>\n",
       "\t<li>1</li>\n",
       "\t<li>-1</li>\n",
       "</ol>\n"
      ],
      "text/latex": [
       "\\begin{enumerate*}\n",
       "\\item 1\n",
       "\\item -1\n",
       "\\item -1\n",
       "\\item -1\n",
       "\\item -1\n",
       "\\item 1\n",
       "\\item -1\n",
       "\\item 1\n",
       "\\item -1\n",
       "\\item -1\n",
       "\\item -1\n",
       "\\item -1\n",
       "\\item -1\n",
       "\\item 1\n",
       "\\item -1\n",
       "\\item -1\n",
       "\\item -1\n",
       "\\item -1\n",
       "\\item 1\n",
       "\\item -1\n",
       "\\item -1\n",
       "\\item 1\n",
       "\\item -1\n",
       "\\item 1\n",
       "\\item -1\n",
       "\\item -1\n",
       "\\item 1\n",
       "\\item 1\n",
       "\\item 1\n",
       "\\item -1\n",
       "\\end{enumerate*}\n"
      ],
      "text/markdown": [
       "1. 1\n",
       "2. -1\n",
       "3. -1\n",
       "4. -1\n",
       "5. -1\n",
       "6. 1\n",
       "7. -1\n",
       "8. 1\n",
       "9. -1\n",
       "10. -1\n",
       "11. -1\n",
       "12. -1\n",
       "13. -1\n",
       "14. 1\n",
       "15. -1\n",
       "16. -1\n",
       "17. -1\n",
       "18. -1\n",
       "19. 1\n",
       "20. -1\n",
       "21. -1\n",
       "22. 1\n",
       "23. -1\n",
       "24. 1\n",
       "25. -1\n",
       "26. -1\n",
       "27. 1\n",
       "28. 1\n",
       "29. 1\n",
       "30. -1\n",
       "\n",
       "\n"
      ],
      "text/plain": [
       " [1]  1 -1 -1 -1 -1  1 -1  1 -1 -1 -1 -1 -1  1 -1 -1 -1 -1  1 -1 -1  1 -1  1 -1\n",
       "[26] -1  1  1  1 -1"
      ]
     },
     "metadata": {},
     "output_type": "display_data"
    }
   ],
   "source": [
    "Y                                         # results of ifelse statement"
   ]
  },
  {
   "cell_type": "code",
   "execution_count": 9,
   "metadata": {},
   "outputs": [
    {
     "data": {
      "image/png": "[encoded data removed]",
      "text/plain": [
       "plot without title"
      ]
     },
     "metadata": {},
     "output_type": "display_data"
    }
   ],
   "source": [
    "plot(x,pch=ifelse(Y>0,\"+\",\"-\"), xlim=c(-1,1),ylim=c(-1,1),cex=2)  #now plot + for 1 and - for -1"
   ]
  },
  {
   "cell_type": "code",
   "execution_count": 10,
   "metadata": {},
   "outputs": [
    {
     "data": {
      "image/png": "[encoded data removed]",
      "text/plain": [
       "plot without title"
      ]
     },
     "metadata": {},
     "output_type": "display_data"
    }
   ],
   "source": [
    "plot(x,pch=ifelse(Y>0,\"+\",\"-\"), xlim=c(-1,1),ylim=c(-1,1),cex=2)        # Draw a abline that separates two groups\n",
    "abline(0.5,1)"
   ]
  },
  {
   "cell_type": "code",
   "execution_count": 14,
   "metadata": {},
   "outputs": [
    {
     "data": {
      "image/png": "[encoded data removed]",
      "text/plain": [
       "plot without title"
      ]
     },
     "metadata": {},
     "output_type": "display_data"
    }
   ],
   "source": [
    "plot(x,pch=ifelse(Y>0,\"+\",\"-\"), xlim=c(-1,1),ylim=c(-1,1),cex=2)      # ref point at (0,0) colored red\n",
    "abline(0.5,1)\n",
    "points(c(0,0),c(0,0),col=\"red\", pch=19)"
   ]
  },
  {
   "cell_type": "code",
   "execution_count": 17,
   "metadata": {},
   "outputs": [
    {
     "data": {
      "image/png": "[encoded data removed]",
      "text/plain": [
       "plot without title"
      ]
     },
     "metadata": {},
     "output_type": "display_data"
    }
   ],
   "source": [
    "plot(x,pch=ifelse(Y>0,\"+\",\"-\"), xlim=c(-1,1),ylim=c(-1,1),cex=2)   # mark the closest point to the line separator\n",
    "abline(0.5,1)\n",
    "points(c(0,0),c(0,0),col=\"red\",pch=19)\n",
    "lines(c(0,-0.25),c(0,0.25),col=\"blue\",lty=2)"
   ]
  },
  {
   "cell_type": "code",
   "execution_count": 23,
   "metadata": {},
   "outputs": [
    {
     "data": {
      "image/png": "[encoded data removed]",
      "text/plain": [
       "plot without title"
      ]
     },
     "metadata": {},
     "output_type": "display_data"
    }
   ],
   "source": [
    "plot(x,pch=ifelse(Y>0,\"+\",\"-\"), xlim=c(-1,1),ylim=c(-1,1),cex=2)\n",
    "abline(0.5,1)\n",
    "points(c(0,0),c(0,0),col=\"red\",pch=19)\n",
    "lines(c(0,-0.25),c(0,0.25),col=\"blue\",lty=2)\n",
    "arrows(-0.3,0.2,-0.4,0.3, col=\"blue\")"
   ]
  },
  {
   "cell_type": "code",
   "execution_count": 24,
   "metadata": {},
   "outputs": [
    {
     "data": {
      "image/png": "[encoded data removed]",
      "text/plain": [
       "plot without title"
      ]
     },
     "metadata": {},
     "output_type": "display_data"
    }
   ],
   "source": [
    "plot(x,pch=ifelse(Y>0,\"+\",\"-\"), xlim=c(-1,1),ylim=c(-1,1),cex=2)\n",
    "abline(0.5,1)\n",
    "points(c(0,0),c(0,0),col=\"red\",pch=19)\n",
    "lines(c(0,-0.25),c(0,0.25),col=\"blue\",lty=2)\n",
    "arrows(-0.3,0.2,-0.4,0.3, col=\"blue\")\n",
    "text(-0.45,0.35,\"w\",cex=2, col=\"lightblue\")\n",
    "text(-0.0,0.15,\"b\",cex=2, col=\"red\")"
   ]
  },
  {
   "cell_type": "code",
   "execution_count": null,
   "metadata": {},
   "outputs": [],
   "source": []
  },
  {
   "cell_type": "code",
   "execution_count": 25,
   "metadata": {},
   "outputs": [],
   "source": [
    "distance.from.plane = function(z,w,b) {                  #distance function \n",
    "    sum(z*w) + b }\n",
    "classify.linear = function(x,w,b) {\n",
    "    distances = apply(x, 1, distance.from.plane, w, b)\n",
    "    return(ifelse(distances < 0, -1, +1))\n",
    "    }"
   ]
  },
  {
   "cell_type": "code",
   "execution_count": 26,
   "metadata": {},
   "outputs": [
    {
     "data": {
      "text/html": [
       "<ol class=list-inline>\n",
       "\t<li>1</li>\n",
       "\t<li>-1</li>\n",
       "\t<li>-1</li>\n",
       "\t<li>-1</li>\n",
       "\t<li>-1</li>\n",
       "\t<li>1</li>\n",
       "\t<li>-1</li>\n",
       "\t<li>1</li>\n",
       "\t<li>-1</li>\n",
       "\t<li>-1</li>\n",
       "\t<li>-1</li>\n",
       "\t<li>-1</li>\n",
       "\t<li>-1</li>\n",
       "\t<li>1</li>\n",
       "\t<li>-1</li>\n",
       "\t<li>-1</li>\n",
       "\t<li>-1</li>\n",
       "\t<li>-1</li>\n",
       "\t<li>1</li>\n",
       "\t<li>-1</li>\n",
       "\t<li>-1</li>\n",
       "\t<li>1</li>\n",
       "\t<li>-1</li>\n",
       "\t<li>1</li>\n",
       "\t<li>-1</li>\n",
       "\t<li>-1</li>\n",
       "\t<li>1</li>\n",
       "\t<li>1</li>\n",
       "\t<li>1</li>\n",
       "\t<li>-1</li>\n",
       "</ol>\n"
      ],
      "text/latex": [
       "\\begin{enumerate*}\n",
       "\\item 1\n",
       "\\item -1\n",
       "\\item -1\n",
       "\\item -1\n",
       "\\item -1\n",
       "\\item 1\n",
       "\\item -1\n",
       "\\item 1\n",
       "\\item -1\n",
       "\\item -1\n",
       "\\item -1\n",
       "\\item -1\n",
       "\\item -1\n",
       "\\item 1\n",
       "\\item -1\n",
       "\\item -1\n",
       "\\item -1\n",
       "\\item -1\n",
       "\\item 1\n",
       "\\item -1\n",
       "\\item -1\n",
       "\\item 1\n",
       "\\item -1\n",
       "\\item 1\n",
       "\\item -1\n",
       "\\item -1\n",
       "\\item 1\n",
       "\\item 1\n",
       "\\item 1\n",
       "\\item -1\n",
       "\\end{enumerate*}\n"
      ],
      "text/markdown": [
       "1. 1\n",
       "2. -1\n",
       "3. -1\n",
       "4. -1\n",
       "5. -1\n",
       "6. 1\n",
       "7. -1\n",
       "8. 1\n",
       "9. -1\n",
       "10. -1\n",
       "11. -1\n",
       "12. -1\n",
       "13. -1\n",
       "14. 1\n",
       "15. -1\n",
       "16. -1\n",
       "17. -1\n",
       "18. -1\n",
       "19. 1\n",
       "20. -1\n",
       "21. -1\n",
       "22. 1\n",
       "23. -1\n",
       "24. 1\n",
       "25. -1\n",
       "26. -1\n",
       "27. 1\n",
       "28. 1\n",
       "29. 1\n",
       "30. -1\n",
       "\n",
       "\n"
      ],
      "text/plain": [
       " [1]  1 -1 -1 -1 -1  1 -1  1 -1 -1 -1 -1 -1  1 -1 -1 -1 -1  1 -1 -1  1 -1  1 -1\n",
       "[26] -1  1  1  1 -1"
      ]
     },
     "metadata": {},
     "output_type": "display_data"
    }
   ],
   "source": [
    "classify.linear(x,c(-1,1)/sqrt(2),-sqrt(2)/4)"
   ]
  },
  {
   "cell_type": "code",
   "execution_count": 27,
   "metadata": {},
   "outputs": [],
   "source": [
    "euclidean.norm = function(x) {sqrt(sum(x * x))}\n",
    "perceptron = function(x, y, learning.rate=1) {           #perceptron function\n",
    "    w = vector(length = ncol(x))                         # initialize w\n",
    "    b = 0                                                # Initialize b\n",
    "    k = 0                                                # count updates\n",
    "    R = max(apply(x, 1, euclidean.norm))\n",
    "    made.mistake = TRUE                                  # to enter the while loop\n",
    "    while (made.mistake) {\n",
    "        made.mistake=FALSE                               # interesting part, if a misclassification then:\n",
    "        yc <- classify.linear(x,w,b)\n",
    "        for (i in 1:nrow(x)) {\n",
    "            if (y[i] != yc[i]) {\n",
    "                w <- w + learning.rate * y[i]*x[i,]      #wieghts are adjusted\n",
    "                b <- b + learning.rate * y[i]*R^2\n",
    "                k <- k+1\n",
    "                made.mistake=TRUE\n",
    "            }\n",
    "        } }\n",
    "    s = euclidean.norm(w)\n",
    "    return(list(w=w/s,b=b/s,updates=k))\n",
    "    }"
   ]
  },
  {
   "cell_type": "code",
   "execution_count": 28,
   "metadata": {},
   "outputs": [
    {
     "data": {
      "text/html": [
       "<dl>\n",
       "\t<dt>$w</dt>\n",
       "\t\t<dd><dl class=dl-horizontal>\n",
       "\t<dt>x1</dt>\n",
       "\t\t<dd>-0.683732715708837</dd>\n",
       "\t<dt>x2</dt>\n",
       "\t\t<dd>0.729732535569998</dd>\n",
       "</dl>\n",
       "</dd>\n",
       "\t<dt>$b</dt>\n",
       "\t\t<dd>-0.311038620664481</dd>\n",
       "\t<dt>$updates</dt>\n",
       "\t\t<dd>52</dd>\n",
       "</dl>\n"
      ],
      "text/latex": [
       "\\begin{description}\n",
       "\\item[\\$w] \\begin{description*}\n",
       "\\item[x1] -0.683732715708837\n",
       "\\item[x2] 0.729732535569998\n",
       "\\end{description*}\n",
       "\n",
       "\\item[\\$b] -0.311038620664481\n",
       "\\item[\\$updates] 52\n",
       "\\end{description}\n"
      ],
      "text/markdown": [
       "$w\n",
       ":   x1\n",
       ":   -0.683732715708837x2\n",
       ":   0.729732535569998\n",
       "\n",
       "\n",
       "$b\n",
       ":   -0.311038620664481\n",
       "$updates\n",
       ":   52\n",
       "\n",
       "\n"
      ],
      "text/plain": [
       "$w\n",
       "        x1         x2 \n",
       "-0.6837327  0.7297325 \n",
       "\n",
       "$b\n",
       "[1] -0.3110386\n",
       "\n",
       "$updates\n",
       "[1] 52\n"
      ]
     },
     "metadata": {},
     "output_type": "display_data"
    }
   ],
   "source": [
    "(p <- perceptron(x,Y))                                     #accuracy"
   ]
  },
  {
   "cell_type": "code",
   "execution_count": 29,
   "metadata": {},
   "outputs": [],
   "source": [
    "y <- classify.linear(x,p$w,p$b)                             #classification"
   ]
  },
  {
   "cell_type": "code",
   "execution_count": 30,
   "metadata": {},
   "outputs": [
    {
     "data": {
      "text/html": [
       "0"
      ],
      "text/latex": [
       "0"
      ],
      "text/markdown": [
       "0"
      ],
      "text/plain": [
       "[1] 0"
      ]
     },
     "metadata": {},
     "output_type": "display_data"
    }
   ],
   "source": [
    "sum(abs(Y-y))"
   ]
  }
 ],
 "metadata": {
  "kernelspec": {
   "display_name": "R",
   "language": "R",
   "name": "ir"
  },
  "language_info": {
   "codemirror_mode": "r",
   "file_extension": ".r",
   "mimetype": "text/x-r-source",
   "name": "R",
   "pygments_lexer": "r",
   "version": "3.5.1"
  }
 },
 "nbformat": 4,
 "nbformat_minor": 2
}

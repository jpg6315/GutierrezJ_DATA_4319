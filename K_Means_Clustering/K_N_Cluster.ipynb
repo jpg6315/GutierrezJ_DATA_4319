{
 "cells": [
  {
   "cell_type": "markdown",
   "metadata": {},
   "source": [
    "<img align=\"left\" width=\"300\" height=\"2000\" src=\"Clustering.png\">\n",
    "&nbsp;                                                                                                                            \n",
    "&nbsp;\n",
    "\n",
    "# <center> <h1>K-MEANS CLUSTERING ANALYSIS</h1> </center> \n",
    "#### <center> <h1>in JULIA</h1> </center>\n",
    "&nbsp;                                                                                                                            \n",
    "&nbsp;\n",
    "&nbsp;\n",
    "&nbsp;\n",
    "&nbsp;\n",
    "&nbsp;\n",
    "&nbsp;\n",
    "&nbsp;                                                                                                                            \n",
    "&nbsp;\n",
    "&nbsp;\n",
    "&nbsp;\n",
    "&nbsp;\n",
    "&nbsp;\n",
    "&nbsp;\n",
    "&nbsp;\n",
    "&nbsp; \n",
    "by Jesse P. Gutierrez Jr\n",
    "   UHD, Data Science"
   ]
  },
  {
   "cell_type": "code",
   "execution_count": 12,
   "metadata": {},
   "outputs": [],
   "source": [
    "using Plots, Statistics\n",
    "theme(:dark)"
   ]
  },
  {
   "cell_type": "code",
   "execution_count": 13,
   "metadata": {},
   "outputs": [
    {
     "data": {
      "text/plain": [
       "distance (generic function with 1 method)"
      ]
     },
     "execution_count": 13,
     "metadata": {},
     "output_type": "execute_result"
    }
   ],
   "source": [
    "distance(p1,p2) = sqrt((p1[1]-p2[1])^2 + (p1[2] - p2[2])^2)"
   ]
  },
  {
   "cell_type": "code",
   "execution_count": 14,
   "metadata": {},
   "outputs": [],
   "source": [
    "cluster1 = [p for p in zip(rand(1:50, 20), rand(1:70, 20))]\n",
    "cluster2 = [p for p in zip(rand(45:70, 20), rand(45:80, 20))];"
   ]
  },
  {
   "cell_type": "code",
   "execution_count": 15,
   "metadata": {},
   "outputs": [
    {
     "data": {
      "text/plain": [
       "20-element Array{Tuple{Int64,Int64},1}:\n",
       " (43, 47)\n",
       " (2, 38) \n",
       " (30, 2) \n",
       " (39, 42)\n",
       " (48, 41)\n",
       " (38, 39)\n",
       " (50, 65)\n",
       " (34, 11)\n",
       " (45, 48)\n",
       " (2, 49) \n",
       " (29, 5) \n",
       " (22, 42)\n",
       " (2, 62) \n",
       " (42, 26)\n",
       " (6, 19) \n",
       " (10, 10)\n",
       " (45, 19)\n",
       " (14, 58)\n",
       " (43, 22)\n",
       " (48, 2) "
      ]
     },
     "execution_count": 15,
     "metadata": {},
     "output_type": "execute_result"
    }
   ],
   "source": [
    "cluster1"
   ]
  },
  {
   "cell_type": "code",
   "execution_count": 16,
   "metadata": {},
   "outputs": [
    {
     "data": {
      "text/plain": [
       "20-element Array{Tuple{Int64,Int64},1}:\n",
       " (45, 59)\n",
       " (66, 59)\n",
       " (66, 75)\n",
       " (54, 69)\n",
       " (63, 63)\n",
       " (56, 45)\n",
       " (57, 57)\n",
       " (65, 54)\n",
       " (65, 72)\n",
       " (49, 46)\n",
       " (66, 57)\n",
       " (45, 74)\n",
       " (50, 70)\n",
       " (61, 70)\n",
       " (61, 50)\n",
       " (68, 67)\n",
       " (47, 53)\n",
       " (69, 48)\n",
       " (53, 46)\n",
       " (49, 79)"
      ]
     },
     "execution_count": 16,
     "metadata": {},
     "output_type": "execute_result"
    }
   ],
   "source": [
    "cluster2"
   ]
  },
  {
   "cell_type": "code",
   "execution_count": 17,
   "metadata": {},
   "outputs": [
    {
     "data": {
      "image/svg+xml": [
       "<?xml version=\"1.0\" encoding=\"utf-8\"?>\n",
       "<svg xmlns=\"http://www.w3.org/2000/svg\" xmlns:xlink=\"http://www.w3.org/1999/xlink\" width=\"600\" height=\"400\" viewBox=\"0 0 2400 1600\">\n",
       "<defs>\n",
       "  <clipPath id=\"clip1900\">\n",
       "    <rect x=\"0\" y=\"0\" width=\"2000\" height=\"2000\"/>\n",
       "  </clipPath>\n",
       "</defs>\n",
       "<defs>\n",
       "  <clipPath id=\"clip1901\">\n",
       "    <rect x=\"0\" y=\"0\" width=\"2400\" height=\"1600\"/>\n",
       "  </clipPath>\n",
       "</defs>\n",
       "<polygon clip-path=\"url(#clip1901)\" points=\"\n",
       "0,1600 2400,1600 2400,0 0,0 \n",
       "  \" fill=\"#363c46\" fill-rule=\"evenodd\" fill-opacity=\"1\"/>\n",
       "<defs>\n",
       "  <clipPath id=\"clip1902\">\n",
       "    <rect x=\"480\" y=\"0\" width=\"1681\" height=\"1600\"/>\n",
       "  </clipPath>\n",
       "</defs>\n",
       "<polygon clip-path=\"url(#clip1901)\" points=\"\n",
       "211.005,1440.48 2321.26,1440.48 2321.26,125.984 211.005,125.984 \n",
       "  \" fill=\"#30343b\" fill-rule=\"evenodd\" fill-opacity=\"1\"/>\n",
       "<defs>\n",
       "  <clipPath id=\"clip1903\">\n",
       "    <rect x=\"211\" y=\"125\" width=\"2111\" height=\"1315\"/>\n",
       "  </clipPath>\n",
       "</defs>\n",
       "<polyline clip-path=\"url(#clip1903)\" style=\"stroke:#adb2b7; stroke-width:2; stroke-opacity:0.1; fill:none\" points=\"\n",
       "  211.302,1440.48 211.302,125.984 \n",
       "  \"/>\n",
       "<polyline clip-path=\"url(#clip1903)\" style=\"stroke:#adb2b7; stroke-width:2; stroke-opacity:0.1; fill:none\" points=\"\n",
       "  805.573,1440.48 805.573,125.984 \n",
       "  \"/>\n",
       "<polyline clip-path=\"url(#clip1903)\" style=\"stroke:#adb2b7; stroke-width:2; stroke-opacity:0.1; fill:none\" points=\"\n",
       "  1399.84,1440.48 1399.84,125.984 \n",
       "  \"/>\n",
       "<polyline clip-path=\"url(#clip1903)\" style=\"stroke:#adb2b7; stroke-width:2; stroke-opacity:0.1; fill:none\" points=\"\n",
       "  1994.11,1440.48 1994.11,125.984 \n",
       "  \"/>\n",
       "<polyline clip-path=\"url(#clip1903)\" style=\"stroke:#adb2b7; stroke-width:2; stroke-opacity:0.1; fill:none\" points=\"\n",
       "  211.005,1435.49 2321.26,1435.49 \n",
       "  \"/>\n",
       "<polyline clip-path=\"url(#clip1903)\" style=\"stroke:#adb2b7; stroke-width:2; stroke-opacity:0.1; fill:none\" points=\"\n",
       "  211.005,1113.39 2321.26,1113.39 \n",
       "  \"/>\n",
       "<polyline clip-path=\"url(#clip1903)\" style=\"stroke:#adb2b7; stroke-width:2; stroke-opacity:0.1; fill:none\" points=\"\n",
       "  211.005,791.286 2321.26,791.286 \n",
       "  \"/>\n",
       "<polyline clip-path=\"url(#clip1903)\" style=\"stroke:#adb2b7; stroke-width:2; stroke-opacity:0.1; fill:none\" points=\"\n",
       "  211.005,469.184 2321.26,469.184 \n",
       "  \"/>\n",
       "<polyline clip-path=\"url(#clip1903)\" style=\"stroke:#adb2b7; stroke-width:2; stroke-opacity:0.1; fill:none\" points=\"\n",
       "  211.005,147.082 2321.26,147.082 \n",
       "  \"/>\n",
       "<polyline clip-path=\"url(#clip1901)\" style=\"stroke:#adb2b7; stroke-width:4; stroke-opacity:1; fill:none\" points=\"\n",
       "  211.005,1440.48 2321.26,1440.48 \n",
       "  \"/>\n",
       "<polyline clip-path=\"url(#clip1901)\" style=\"stroke:#adb2b7; stroke-width:4; stroke-opacity:1; fill:none\" points=\"\n",
       "  211.005,1440.48 211.005,125.984 \n",
       "  \"/>\n",
       "<polyline clip-path=\"url(#clip1901)\" style=\"stroke:#adb2b7; stroke-width:4; stroke-opacity:1; fill:none\" points=\"\n",
       "  211.302,1440.48 211.302,1420.77 \n",
       "  \"/>\n",
       "<polyline clip-path=\"url(#clip1901)\" style=\"stroke:#adb2b7; stroke-width:4; stroke-opacity:1; fill:none\" points=\"\n",
       "  805.573,1440.48 805.573,1420.77 \n",
       "  \"/>\n",
       "<polyline clip-path=\"url(#clip1901)\" style=\"stroke:#adb2b7; stroke-width:4; stroke-opacity:1; fill:none\" points=\"\n",
       "  1399.84,1440.48 1399.84,1420.77 \n",
       "  \"/>\n",
       "<polyline clip-path=\"url(#clip1901)\" style=\"stroke:#adb2b7; stroke-width:4; stroke-opacity:1; fill:none\" points=\"\n",
       "  1994.11,1440.48 1994.11,1420.77 \n",
       "  \"/>\n",
       "<polyline clip-path=\"url(#clip1901)\" style=\"stroke:#adb2b7; stroke-width:4; stroke-opacity:1; fill:none\" points=\"\n",
       "  211.005,1435.49 242.659,1435.49 \n",
       "  \"/>\n",
       "<polyline clip-path=\"url(#clip1901)\" style=\"stroke:#adb2b7; stroke-width:4; stroke-opacity:1; fill:none\" points=\"\n",
       "  211.005,1113.39 242.659,1113.39 \n",
       "  \"/>\n",
       "<polyline clip-path=\"url(#clip1901)\" style=\"stroke:#adb2b7; stroke-width:4; stroke-opacity:1; fill:none\" points=\"\n",
       "  211.005,791.286 242.659,791.286 \n",
       "  \"/>\n",
       "<polyline clip-path=\"url(#clip1901)\" style=\"stroke:#adb2b7; stroke-width:4; stroke-opacity:1; fill:none\" points=\"\n",
       "  211.005,469.184 242.659,469.184 \n",
       "  \"/>\n",
       "<polyline clip-path=\"url(#clip1901)\" style=\"stroke:#adb2b7; stroke-width:4; stroke-opacity:1; fill:none\" points=\"\n",
       "  211.005,147.082 242.659,147.082 \n",
       "  \"/>\n",
       "<g clip-path=\"url(#clip1901)\">\n",
       "<text style=\"fill:#ffffff; fill-opacity:1; font-family:Arial,Helvetica Neue,Helvetica,sans-serif; font-size:48px; text-anchor:middle;\" transform=\"rotate(0, 211.302, 1494.48)\" x=\"211.302\" y=\"1494.48\">0</text>\n",
       "</g>\n",
       "<g clip-path=\"url(#clip1901)\">\n",
       "<text style=\"fill:#ffffff; fill-opacity:1; font-family:Arial,Helvetica Neue,Helvetica,sans-serif; font-size:48px; text-anchor:middle;\" transform=\"rotate(0, 805.573, 1494.48)\" x=\"805.573\" y=\"1494.48\">20</text>\n",
       "</g>\n",
       "<g clip-path=\"url(#clip1901)\">\n",
       "<text style=\"fill:#ffffff; fill-opacity:1; font-family:Arial,Helvetica Neue,Helvetica,sans-serif; font-size:48px; text-anchor:middle;\" transform=\"rotate(0, 1399.84, 1494.48)\" x=\"1399.84\" y=\"1494.48\">40</text>\n",
       "</g>\n",
       "<g clip-path=\"url(#clip1901)\">\n",
       "<text style=\"fill:#ffffff; fill-opacity:1; font-family:Arial,Helvetica Neue,Helvetica,sans-serif; font-size:48px; text-anchor:middle;\" transform=\"rotate(0, 1994.11, 1494.48)\" x=\"1994.11\" y=\"1494.48\">60</text>\n",
       "</g>\n",
       "<g clip-path=\"url(#clip1901)\">\n",
       "<text style=\"fill:#ffffff; fill-opacity:1; font-family:Arial,Helvetica Neue,Helvetica,sans-serif; font-size:48px; text-anchor:end;\" transform=\"rotate(0, 187.005, 1452.99)\" x=\"187.005\" y=\"1452.99\">0</text>\n",
       "</g>\n",
       "<g clip-path=\"url(#clip1901)\">\n",
       "<text style=\"fill:#ffffff; fill-opacity:1; font-family:Arial,Helvetica Neue,Helvetica,sans-serif; font-size:48px; text-anchor:end;\" transform=\"rotate(0, 187.005, 1130.89)\" x=\"187.005\" y=\"1130.89\">20</text>\n",
       "</g>\n",
       "<g clip-path=\"url(#clip1901)\">\n",
       "<text style=\"fill:#ffffff; fill-opacity:1; font-family:Arial,Helvetica Neue,Helvetica,sans-serif; font-size:48px; text-anchor:end;\" transform=\"rotate(0, 187.005, 808.786)\" x=\"187.005\" y=\"808.786\">40</text>\n",
       "</g>\n",
       "<g clip-path=\"url(#clip1901)\">\n",
       "<text style=\"fill:#ffffff; fill-opacity:1; font-family:Arial,Helvetica Neue,Helvetica,sans-serif; font-size:48px; text-anchor:end;\" transform=\"rotate(0, 187.005, 486.684)\" x=\"187.005\" y=\"486.684\">60</text>\n",
       "</g>\n",
       "<g clip-path=\"url(#clip1901)\">\n",
       "<text style=\"fill:#ffffff; fill-opacity:1; font-family:Arial,Helvetica Neue,Helvetica,sans-serif; font-size:48px; text-anchor:end;\" transform=\"rotate(0, 187.005, 164.582)\" x=\"187.005\" y=\"164.582\">80</text>\n",
       "</g>\n",
       "<g clip-path=\"url(#clip1901)\">\n",
       "<text style=\"fill:#adadad; fill-opacity:1; font-family:Arial,Helvetica Neue,Helvetica,sans-serif; font-size:84px; text-anchor:middle;\" transform=\"rotate(0, 1266.13, 73.2)\" x=\"1266.13\" y=\"73.2\">Random Data</text>\n",
       "</g>\n",
       "<g clip-path=\"url(#clip1901)\">\n",
       "<text style=\"fill:#ffffff; fill-opacity:1; font-family:Arial,Helvetica Neue,Helvetica,sans-serif; font-size:66px; text-anchor:middle;\" transform=\"rotate(0, 1266.13, 1590.4)\" x=\"1266.13\" y=\"1590.4\">x</text>\n",
       "</g>\n",
       "<g clip-path=\"url(#clip1901)\">\n",
       "<text style=\"fill:#ffffff; fill-opacity:1; font-family:Arial,Helvetica Neue,Helvetica,sans-serif; font-size:66px; text-anchor:middle;\" transform=\"rotate(-90, 57.6, 783.233)\" x=\"57.6\" y=\"783.233\">y</text>\n",
       "</g>\n",
       "<circle clip-path=\"url(#clip1903)\" style=\"fill:#adb2b7; stroke:none; fill-opacity:1\" cx=\"1488.98\" cy=\"678.55\" r=\"18\"/>\n",
       "<circle clip-path=\"url(#clip1903)\" style=\"fill:#0000ff; stroke:none; fill-opacity:1\" cx=\"1488.98\" cy=\"678.55\" r=\"14\"/>\n",
       "<circle clip-path=\"url(#clip1903)\" style=\"fill:#adb2b7; stroke:none; fill-opacity:1\" cx=\"270.729\" cy=\"823.496\" r=\"18\"/>\n",
       "<circle clip-path=\"url(#clip1903)\" style=\"fill:#0000ff; stroke:none; fill-opacity:1\" cx=\"270.729\" cy=\"823.496\" r=\"14\"/>\n",
       "<circle clip-path=\"url(#clip1903)\" style=\"fill:#adb2b7; stroke:none; fill-opacity:1\" cx=\"1102.71\" cy=\"1403.28\" r=\"18\"/>\n",
       "<circle clip-path=\"url(#clip1903)\" style=\"fill:#0000ff; stroke:none; fill-opacity:1\" cx=\"1102.71\" cy=\"1403.28\" r=\"14\"/>\n",
       "<circle clip-path=\"url(#clip1903)\" style=\"fill:#adb2b7; stroke:none; fill-opacity:1\" cx=\"1370.13\" cy=\"759.076\" r=\"18\"/>\n",
       "<circle clip-path=\"url(#clip1903)\" style=\"fill:#0000ff; stroke:none; fill-opacity:1\" cx=\"1370.13\" cy=\"759.076\" r=\"14\"/>\n",
       "<circle clip-path=\"url(#clip1903)\" style=\"fill:#adb2b7; stroke:none; fill-opacity:1\" cx=\"1637.55\" cy=\"775.181\" r=\"18\"/>\n",
       "<circle clip-path=\"url(#clip1903)\" style=\"fill:#0000ff; stroke:none; fill-opacity:1\" cx=\"1637.55\" cy=\"775.181\" r=\"14\"/>\n",
       "<circle clip-path=\"url(#clip1903)\" style=\"fill:#adb2b7; stroke:none; fill-opacity:1\" cx=\"1340.42\" cy=\"807.391\" r=\"18\"/>\n",
       "<circle clip-path=\"url(#clip1903)\" style=\"fill:#0000ff; stroke:none; fill-opacity:1\" cx=\"1340.42\" cy=\"807.391\" r=\"14\"/>\n",
       "<circle clip-path=\"url(#clip1903)\" style=\"fill:#adb2b7; stroke:none; fill-opacity:1\" cx=\"1696.98\" cy=\"388.658\" r=\"18\"/>\n",
       "<circle clip-path=\"url(#clip1903)\" style=\"fill:#0000ff; stroke:none; fill-opacity:1\" cx=\"1696.98\" cy=\"388.658\" r=\"14\"/>\n",
       "<circle clip-path=\"url(#clip1903)\" style=\"fill:#adb2b7; stroke:none; fill-opacity:1\" cx=\"1221.56\" cy=\"1258.33\" r=\"18\"/>\n",
       "<circle clip-path=\"url(#clip1903)\" style=\"fill:#0000ff; stroke:none; fill-opacity:1\" cx=\"1221.56\" cy=\"1258.33\" r=\"14\"/>\n",
       "<circle clip-path=\"url(#clip1903)\" style=\"fill:#adb2b7; stroke:none; fill-opacity:1\" cx=\"1548.41\" cy=\"662.445\" r=\"18\"/>\n",
       "<circle clip-path=\"url(#clip1903)\" style=\"fill:#0000ff; stroke:none; fill-opacity:1\" cx=\"1548.41\" cy=\"662.445\" r=\"14\"/>\n",
       "<circle clip-path=\"url(#clip1903)\" style=\"fill:#adb2b7; stroke:none; fill-opacity:1\" cx=\"270.729\" cy=\"646.34\" r=\"18\"/>\n",
       "<circle clip-path=\"url(#clip1903)\" style=\"fill:#0000ff; stroke:none; fill-opacity:1\" cx=\"270.729\" cy=\"646.34\" r=\"14\"/>\n",
       "<circle clip-path=\"url(#clip1903)\" style=\"fill:#adb2b7; stroke:none; fill-opacity:1\" cx=\"1072.99\" cy=\"1354.96\" r=\"18\"/>\n",
       "<circle clip-path=\"url(#clip1903)\" style=\"fill:#0000ff; stroke:none; fill-opacity:1\" cx=\"1072.99\" cy=\"1354.96\" r=\"14\"/>\n",
       "<circle clip-path=\"url(#clip1903)\" style=\"fill:#adb2b7; stroke:none; fill-opacity:1\" cx=\"865\" cy=\"759.076\" r=\"18\"/>\n",
       "<circle clip-path=\"url(#clip1903)\" style=\"fill:#0000ff; stroke:none; fill-opacity:1\" cx=\"865\" cy=\"759.076\" r=\"14\"/>\n",
       "<circle clip-path=\"url(#clip1903)\" style=\"fill:#adb2b7; stroke:none; fill-opacity:1\" cx=\"270.729\" cy=\"436.974\" r=\"18\"/>\n",
       "<circle clip-path=\"url(#clip1903)\" style=\"fill:#0000ff; stroke:none; fill-opacity:1\" cx=\"270.729\" cy=\"436.974\" r=\"14\"/>\n",
       "<circle clip-path=\"url(#clip1903)\" style=\"fill:#adb2b7; stroke:none; fill-opacity:1\" cx=\"1459.27\" cy=\"1016.76\" r=\"18\"/>\n",
       "<circle clip-path=\"url(#clip1903)\" style=\"fill:#0000ff; stroke:none; fill-opacity:1\" cx=\"1459.27\" cy=\"1016.76\" r=\"14\"/>\n",
       "<circle clip-path=\"url(#clip1903)\" style=\"fill:#adb2b7; stroke:none; fill-opacity:1\" cx=\"389.583\" cy=\"1129.49\" r=\"18\"/>\n",
       "<circle clip-path=\"url(#clip1903)\" style=\"fill:#0000ff; stroke:none; fill-opacity:1\" cx=\"389.583\" cy=\"1129.49\" r=\"14\"/>\n",
       "<circle clip-path=\"url(#clip1903)\" style=\"fill:#adb2b7; stroke:none; fill-opacity:1\" cx=\"508.437\" cy=\"1274.44\" r=\"18\"/>\n",
       "<circle clip-path=\"url(#clip1903)\" style=\"fill:#0000ff; stroke:none; fill-opacity:1\" cx=\"508.437\" cy=\"1274.44\" r=\"14\"/>\n",
       "<circle clip-path=\"url(#clip1903)\" style=\"fill:#adb2b7; stroke:none; fill-opacity:1\" cx=\"1548.41\" cy=\"1129.49\" r=\"18\"/>\n",
       "<circle clip-path=\"url(#clip1903)\" style=\"fill:#0000ff; stroke:none; fill-opacity:1\" cx=\"1548.41\" cy=\"1129.49\" r=\"14\"/>\n",
       "<circle clip-path=\"url(#clip1903)\" style=\"fill:#adb2b7; stroke:none; fill-opacity:1\" cx=\"627.292\" cy=\"501.394\" r=\"18\"/>\n",
       "<circle clip-path=\"url(#clip1903)\" style=\"fill:#0000ff; stroke:none; fill-opacity:1\" cx=\"627.292\" cy=\"501.394\" r=\"14\"/>\n",
       "<circle clip-path=\"url(#clip1903)\" style=\"fill:#adb2b7; stroke:none; fill-opacity:1\" cx=\"1488.98\" cy=\"1081.18\" r=\"18\"/>\n",
       "<circle clip-path=\"url(#clip1903)\" style=\"fill:#0000ff; stroke:none; fill-opacity:1\" cx=\"1488.98\" cy=\"1081.18\" r=\"14\"/>\n",
       "<circle clip-path=\"url(#clip1903)\" style=\"fill:#adb2b7; stroke:none; fill-opacity:1\" cx=\"1637.55\" cy=\"1403.28\" r=\"18\"/>\n",
       "<circle clip-path=\"url(#clip1903)\" style=\"fill:#0000ff; stroke:none; fill-opacity:1\" cx=\"1637.55\" cy=\"1403.28\" r=\"14\"/>\n",
       "<circle clip-path=\"url(#clip1903)\" style=\"fill:#adb2b7; stroke:none; fill-opacity:1\" cx=\"1548.41\" cy=\"485.289\" r=\"18\"/>\n",
       "<circle clip-path=\"url(#clip1903)\" style=\"fill:#ff0000; stroke:none; fill-opacity:1\" cx=\"1548.41\" cy=\"485.289\" r=\"14\"/>\n",
       "<circle clip-path=\"url(#clip1903)\" style=\"fill:#adb2b7; stroke:none; fill-opacity:1\" cx=\"2172.4\" cy=\"485.289\" r=\"18\"/>\n",
       "<circle clip-path=\"url(#clip1903)\" style=\"fill:#ff0000; stroke:none; fill-opacity:1\" cx=\"2172.4\" cy=\"485.289\" r=\"14\"/>\n",
       "<circle clip-path=\"url(#clip1903)\" style=\"fill:#adb2b7; stroke:none; fill-opacity:1\" cx=\"2172.4\" cy=\"227.607\" r=\"18\"/>\n",
       "<circle clip-path=\"url(#clip1903)\" style=\"fill:#ff0000; stroke:none; fill-opacity:1\" cx=\"2172.4\" cy=\"227.607\" r=\"14\"/>\n",
       "<circle clip-path=\"url(#clip1903)\" style=\"fill:#adb2b7; stroke:none; fill-opacity:1\" cx=\"1815.83\" cy=\"324.238\" r=\"18\"/>\n",
       "<circle clip-path=\"url(#clip1903)\" style=\"fill:#ff0000; stroke:none; fill-opacity:1\" cx=\"1815.83\" cy=\"324.238\" r=\"14\"/>\n",
       "<circle clip-path=\"url(#clip1903)\" style=\"fill:#adb2b7; stroke:none; fill-opacity:1\" cx=\"2083.25\" cy=\"420.869\" r=\"18\"/>\n",
       "<circle clip-path=\"url(#clip1903)\" style=\"fill:#ff0000; stroke:none; fill-opacity:1\" cx=\"2083.25\" cy=\"420.869\" r=\"14\"/>\n",
       "<circle clip-path=\"url(#clip1903)\" style=\"fill:#adb2b7; stroke:none; fill-opacity:1\" cx=\"1875.26\" cy=\"710.76\" r=\"18\"/>\n",
       "<circle clip-path=\"url(#clip1903)\" style=\"fill:#ff0000; stroke:none; fill-opacity:1\" cx=\"1875.26\" cy=\"710.76\" r=\"14\"/>\n",
       "<circle clip-path=\"url(#clip1903)\" style=\"fill:#adb2b7; stroke:none; fill-opacity:1\" cx=\"1904.97\" cy=\"517.499\" r=\"18\"/>\n",
       "<circle clip-path=\"url(#clip1903)\" style=\"fill:#ff0000; stroke:none; fill-opacity:1\" cx=\"1904.97\" cy=\"517.499\" r=\"14\"/>\n",
       "<circle clip-path=\"url(#clip1903)\" style=\"fill:#adb2b7; stroke:none; fill-opacity:1\" cx=\"2142.68\" cy=\"565.815\" r=\"18\"/>\n",
       "<circle clip-path=\"url(#clip1903)\" style=\"fill:#ff0000; stroke:none; fill-opacity:1\" cx=\"2142.68\" cy=\"565.815\" r=\"14\"/>\n",
       "<circle clip-path=\"url(#clip1903)\" style=\"fill:#adb2b7; stroke:none; fill-opacity:1\" cx=\"2142.68\" cy=\"275.923\" r=\"18\"/>\n",
       "<circle clip-path=\"url(#clip1903)\" style=\"fill:#ff0000; stroke:none; fill-opacity:1\" cx=\"2142.68\" cy=\"275.923\" r=\"14\"/>\n",
       "<circle clip-path=\"url(#clip1903)\" style=\"fill:#adb2b7; stroke:none; fill-opacity:1\" cx=\"1667.27\" cy=\"694.655\" r=\"18\"/>\n",
       "<circle clip-path=\"url(#clip1903)\" style=\"fill:#ff0000; stroke:none; fill-opacity:1\" cx=\"1667.27\" cy=\"694.655\" r=\"14\"/>\n",
       "<circle clip-path=\"url(#clip1903)\" style=\"fill:#adb2b7; stroke:none; fill-opacity:1\" cx=\"2172.4\" cy=\"517.499\" r=\"18\"/>\n",
       "<circle clip-path=\"url(#clip1903)\" style=\"fill:#ff0000; stroke:none; fill-opacity:1\" cx=\"2172.4\" cy=\"517.499\" r=\"14\"/>\n",
       "<circle clip-path=\"url(#clip1903)\" style=\"fill:#adb2b7; stroke:none; fill-opacity:1\" cx=\"1548.41\" cy=\"243.713\" r=\"18\"/>\n",
       "<circle clip-path=\"url(#clip1903)\" style=\"fill:#ff0000; stroke:none; fill-opacity:1\" cx=\"1548.41\" cy=\"243.713\" r=\"14\"/>\n",
       "<circle clip-path=\"url(#clip1903)\" style=\"fill:#adb2b7; stroke:none; fill-opacity:1\" cx=\"1696.98\" cy=\"308.133\" r=\"18\"/>\n",
       "<circle clip-path=\"url(#clip1903)\" style=\"fill:#ff0000; stroke:none; fill-opacity:1\" cx=\"1696.98\" cy=\"308.133\" r=\"14\"/>\n",
       "<circle clip-path=\"url(#clip1903)\" style=\"fill:#adb2b7; stroke:none; fill-opacity:1\" cx=\"2023.83\" cy=\"308.133\" r=\"18\"/>\n",
       "<circle clip-path=\"url(#clip1903)\" style=\"fill:#ff0000; stroke:none; fill-opacity:1\" cx=\"2023.83\" cy=\"308.133\" r=\"14\"/>\n",
       "<circle clip-path=\"url(#clip1903)\" style=\"fill:#adb2b7; stroke:none; fill-opacity:1\" cx=\"2023.83\" cy=\"630.235\" r=\"18\"/>\n",
       "<circle clip-path=\"url(#clip1903)\" style=\"fill:#ff0000; stroke:none; fill-opacity:1\" cx=\"2023.83\" cy=\"630.235\" r=\"14\"/>\n",
       "<circle clip-path=\"url(#clip1903)\" style=\"fill:#adb2b7; stroke:none; fill-opacity:1\" cx=\"2231.82\" cy=\"356.448\" r=\"18\"/>\n",
       "<circle clip-path=\"url(#clip1903)\" style=\"fill:#ff0000; stroke:none; fill-opacity:1\" cx=\"2231.82\" cy=\"356.448\" r=\"14\"/>\n",
       "<circle clip-path=\"url(#clip1903)\" style=\"fill:#adb2b7; stroke:none; fill-opacity:1\" cx=\"1607.84\" cy=\"581.92\" r=\"18\"/>\n",
       "<circle clip-path=\"url(#clip1903)\" style=\"fill:#ff0000; stroke:none; fill-opacity:1\" cx=\"1607.84\" cy=\"581.92\" r=\"14\"/>\n",
       "<circle clip-path=\"url(#clip1903)\" style=\"fill:#adb2b7; stroke:none; fill-opacity:1\" cx=\"2261.54\" cy=\"662.445\" r=\"18\"/>\n",
       "<circle clip-path=\"url(#clip1903)\" style=\"fill:#ff0000; stroke:none; fill-opacity:1\" cx=\"2261.54\" cy=\"662.445\" r=\"14\"/>\n",
       "<circle clip-path=\"url(#clip1903)\" style=\"fill:#adb2b7; stroke:none; fill-opacity:1\" cx=\"1786.12\" cy=\"694.655\" r=\"18\"/>\n",
       "<circle clip-path=\"url(#clip1903)\" style=\"fill:#ff0000; stroke:none; fill-opacity:1\" cx=\"1786.12\" cy=\"694.655\" r=\"14\"/>\n",
       "<circle clip-path=\"url(#clip1903)\" style=\"fill:#adb2b7; stroke:none; fill-opacity:1\" cx=\"1667.27\" cy=\"163.187\" r=\"18\"/>\n",
       "<circle clip-path=\"url(#clip1903)\" style=\"fill:#ff0000; stroke:none; fill-opacity:1\" cx=\"1667.27\" cy=\"163.187\" r=\"14\"/>\n",
       "</svg>\n"
      ]
     },
     "execution_count": 17,
     "metadata": {},
     "output_type": "execute_result"
    }
   ],
   "source": [
    "scatter(cluster1, \n",
    "    legend = false, \n",
    "    color = \"blue\",\n",
    "    xaxis = \"x\",\n",
    "    yaxis = \"y\",\n",
    "    title = \"Random Data\")\n",
    "\n",
    "scatter!(cluster2, \n",
    "    color = \"red\")"
   ]
  },
  {
   "cell_type": "code",
   "execution_count": 18,
   "metadata": {},
   "outputs": [],
   "source": [
    "X = [x for x in cluster1]\n",
    "for x in cluster2\n",
    "    push!(X, x)\n",
    "end"
   ]
  },
  {
   "cell_type": "code",
   "execution_count": 19,
   "metadata": {},
   "outputs": [
    {
     "data": {
      "text/plain": [
       "40-element Array{Tuple{Int64,Int64},1}:\n",
       " (43, 47)\n",
       " (2, 38) \n",
       " (30, 2) \n",
       " (39, 42)\n",
       " (48, 41)\n",
       " (38, 39)\n",
       " (50, 65)\n",
       " (34, 11)\n",
       " (45, 48)\n",
       " (2, 49) \n",
       " (29, 5) \n",
       " (22, 42)\n",
       " (2, 62) \n",
       " ⋮       \n",
       " (65, 72)\n",
       " (49, 46)\n",
       " (66, 57)\n",
       " (45, 74)\n",
       " (50, 70)\n",
       " (61, 70)\n",
       " (61, 50)\n",
       " (68, 67)\n",
       " (47, 53)\n",
       " (69, 48)\n",
       " (53, 46)\n",
       " (49, 79)"
      ]
     },
     "execution_count": 19,
     "metadata": {},
     "output_type": "execute_result"
    }
   ],
   "source": [
    "X   # this is out unlabeled data points"
   ]
  },
  {
   "cell_type": "code",
   "execution_count": null,
   "metadata": {},
   "outputs": [],
   "source": [
    "# some senior level programming\n",
    "function k_Means_Clustering(X, k)\n",
    "    centers = [(rand(0:70), rand(0:80)) for _ = 1:k]     #centers - random collection of centers which is an array of \n",
    "    #tuples.\n",
    "    distances = [] # distance is empty but for each point make a temp_distance array, consist of j, distance array\n",
    "    # first entry is j tuples from centers, second entry is point p to distances to center\n",
    "    for p in X\n",
    "        temp_distances = [(j, distance(p, centers[j])) for j = 1:length(centers)]\n",
    "        sort!(temp_distances, by = x -> x[2])\n",
    "        push!(distances, (p, temp_distances[1][1], temp_distances[1][2]))\n",
    "    end\n",
    "# starts to change things"
   ]
  },
  {
   "cell_type": "code",
   "execution_count": 34,
   "metadata": {},
   "outputs": [],
   "source": [
    "# print the next to slides to see what it does\n",
    "centers = [(rand(0:70), rand(0:80)) for _ = 1:2]     #centers - random collection of centers which is an array of \n",
    "    #tuples.\n",
    "distances = [] # distance is empty but for each point make a temp_distance array, consist of j, distance array\n",
    "    # first entry is j tuples from centers, second entry is point p to distances to center\n",
    "for p in X\n",
    "    temp_distances = [(j, distance(p, centers[j])) for j = 1:length(centers)]\n",
    "    sort!(temp_distances, by = x -> x[2])\n",
    "    push!(distances, (p, temp_distances[1][1], temp_distances[1][2]))\n",
    "end\n",
    "# starts to change things"
   ]
  },
  {
   "cell_type": "code",
   "execution_count": 35,
   "metadata": {},
   "outputs": [
    {
     "data": {
      "text/plain": [
       "40-element Array{Any,1}:\n",
       " ((43, 47), 2, 27.294688127912362)\n",
       " ((2, 38), 2, 68.18357573492314)  \n",
       " ((30, 2), 2, 57.28001396647874)  \n",
       " ((39, 42), 2, 31.016124838541646)\n",
       " ((48, 41), 2, 22.090722034374522)\n",
       " ((38, 39), 2, 32.2490309931942)  \n",
       " ((50, 65), 1, 15.0)              \n",
       " ((34, 11), 2, 48.16637831516918) \n",
       " ((45, 48), 2, 25.495097567963924)\n",
       " ((2, 49), 1, 65.0)               \n",
       " ((29, 5), 2, 55.90169943749474)  \n",
       " ((22, 42), 2, 48.010415536631214)\n",
       " ((2, 62), 1, 63.071388124885914) \n",
       " ⋮                                \n",
       " ((65, 72), 1, 7.0)               \n",
       " ((49, 46), 2, 21.213203435596427)\n",
       " ((66, 57), 1, 8.06225774829855)  \n",
       " ((45, 74), 1, 21.93171219946131) \n",
       " ((50, 70), 1, 15.811388300841896)\n",
       " ((61, 70), 1, 6.4031242374328485)\n",
       " ((61, 50), 2, 11.40175425099138) \n",
       " ((68, 67), 1, 3.605551275463989) \n",
       " ((47, 53), 1, 21.633307652783937)\n",
       " ((69, 48), 2, 5.0990195135927845)\n",
       " ((53, 46), 2, 17.26267650163207) \n",
       " ((49, 79), 1, 21.2602916254693)  "
      ]
     },
     "execution_count": 35,
     "metadata": {},
     "output_type": "execute_result"
    }
   ],
   "source": [
    "# prints point, index, distances with 2 centers, the centers are randomly changing\n",
    "distances"
   ]
  },
  {
   "cell_type": "code",
   "execution_count": 25,
   "metadata": {},
   "outputs": [
    {
     "data": {
      "text/plain": [
       "((43, 47), 2, 5.830951894845301)"
      ]
     },
     "execution_count": 25,
     "metadata": {},
     "output_type": "execute_result"
    }
   ],
   "source": [
    "temp_p = distances[1] # point in our data set"
   ]
  },
  {
   "cell_type": "code",
   "execution_count": 26,
   "metadata": {},
   "outputs": [
    {
     "data": {
      "text/plain": [
       "2-element Array{Tuple{Int64,Int64},1}:\n",
       " (62, 35)\n",
       " (40, 42)"
      ]
     },
     "execution_count": 26,
     "metadata": {},
     "output_type": "execute_result"
    }
   ],
   "source": [
    "centers # a center in data set"
   ]
  },
  {
   "cell_type": "code",
   "execution_count": 27,
   "metadata": {},
   "outputs": [
    {
     "name": "stdout",
     "output_type": "stream",
     "text": [
      "The distance from (6,14) to u_1 is: 36.124783736376884\n",
      "\n",
      "The distance from (6,14) to u_2 is: 70.83078426785913\n",
      "\n"
     ]
    }
   ],
   "source": [
    " # closest to the (6,14), thats why the one above shows up//\n",
    "println(\"The distance from (6,14) to u_1 is: \", distance((42,17),(6, 14)), \"\\n\") \n",
    "println(\"The distance from (6,14) to u_2 is: \", distance((67,50),(6, 14)), \"\\n\")"
   ]
  },
  {
   "cell_type": "code",
   "execution_count": 36,
   "metadata": {},
   "outputs": [
    {
     "data": {
      "text/plain": [
       "(30, 41)"
      ]
     },
     "execution_count": 36,
     "metadata": {},
     "output_type": "execute_result"
    }
   ],
   "source": [
    "###notes\n",
    "(6,4).+(24,37)"
   ]
  },
  {
   "cell_type": "code",
   "execution_count": null,
   "metadata": {},
   "outputs": [],
   "source": []
  },
  {
   "cell_type": "code",
   "execution_count": null,
   "metadata": {},
   "outputs": [],
   "source": []
  },
  {
   "cell_type": "code",
   "execution_count": 67,
   "metadata": {},
   "outputs": [
    {
     "data": {
      "text/plain": [
       "k_Means_Assignment (generic function with 1 method)"
      ]
     },
     "execution_count": 67,
     "metadata": {},
     "output_type": "execute_result"
    }
   ],
   "source": [
    "function k_Means_Assignment(X, centers, k)\n",
    "  \n",
    "    distances = []\n",
    "    for p in X\n",
    "        temp_distances = [(j, distance(p, centers[j])) for j = 1:length(centers)]\n",
    "        sort!(temp_distances, by = x -> x[2])\n",
    "        push!(distances, (p, temp_distances[1][1], temp_distances[1][2]))\n",
    "    end\n",
    "    \n",
    "    new_centers = copy(centers)\n",
    "    for j = 1:k\n",
    "        new_centers[j] = mean(([x[1][1] for x in distances if x[2] == j]),\n",
    "                            mean([x[1][2] for x in distances if x[2] == j]))\n",
    "    end\n",
    "                                        \n",
    "    return new_centers\n",
    "end"
   ]
  },
  {
   "cell_type": "code",
   "execution_count": 68,
   "metadata": {},
   "outputs": [
    {
     "data": {
      "text/plain": [
       "k_Means_Clustering (generic function with 1 method)"
      ]
     },
     "execution_count": 68,
     "metadata": {},
     "output_type": "execute_result"
    }
   ],
   "source": [
    "function k_Means_Clustering(X, k, ϵ)\n",
    "    centers = [(rand(0.0:70.0), rand(0.0:80.0)) for _ = 1:k]\n",
    "    new_centers = k_Means_Assignment(X, centers, k)\n",
    "    while maximum([distance(centers[i], new_centers[i]) for i = 1:k]) > ϵ\n",
    "      centers, new_centers = new_centers, k_Means_Assignment(X, new_centers, k)\n",
    "    end\n",
    "    return new_centers\n",
    "end"
   ]
  },
  {
   "cell_type": "code",
   "execution_count": 69,
   "metadata": {},
   "outputs": [
    {
     "ename": "MethodError",
     "evalue": "MethodError: no method matching mean(::Array{Int64,1}, ::Float64)\nClosest candidates are:\n  mean(!Matched::Union{Function, Type}, ::Any) at C:\\cygwin\\home\\Administrator\\buildbot\\worker\\package_win64\\build\\usr\\share\\julia\\stdlib\\v1.0\\Statistics\\src\\Statistics.jl:58\n  mean(::AbstractArray{T<:Number,N} where N, !Matched::StatsBase.AbstractWeights{W<:Real,T,V} where V<:AbstractArray{T,1} where T<:Real, !Matched::Int64) where {T<:Number, W<:Real} at deprecated.jl:53\n  mean(::AbstractArray; dims) at C:\\cygwin\\home\\Administrator\\buildbot\\worker\\package_win64\\build\\usr\\share\\julia\\stdlib\\v1.0\\Statistics\\src\\Statistics.jl:128\n  ...",
     "output_type": "error",
     "traceback": [
      "MethodError: no method matching mean(::Array{Int64,1}, ::Float64)\nClosest candidates are:\n  mean(!Matched::Union{Function, Type}, ::Any) at C:\\cygwin\\home\\Administrator\\buildbot\\worker\\package_win64\\build\\usr\\share\\julia\\stdlib\\v1.0\\Statistics\\src\\Statistics.jl:58\n  mean(::AbstractArray{T<:Number,N} where N, !Matched::StatsBase.AbstractWeights{W<:Real,T,V} where V<:AbstractArray{T,1} where T<:Real, !Matched::Int64) where {T<:Number, W<:Real} at deprecated.jl:53\n  mean(::AbstractArray; dims) at C:\\cygwin\\home\\Administrator\\buildbot\\worker\\package_win64\\build\\usr\\share\\julia\\stdlib\\v1.0\\Statistics\\src\\Statistics.jl:128\n  ...",
      "",
      "Stacktrace:",
      " [1] k_Means_Assignment(::Array{Tuple{Int64,Int64},1}, ::Array{Tuple{Float64,Float64},1}, ::Int64) at .\\In[67]:12",
      " [2] k_Means_Clustering(::Array{Tuple{Int64,Int64},1}, ::Int64, ::Float64) at .\\In[68]:3",
      " [3] top-level scope at In[69]:1"
     ]
    }
   ],
   "source": [
    "centers = k_Means_Clustering(X, 2, 0.05)"
   ]
  },
  {
   "cell_type": "code",
   "execution_count": 53,
   "metadata": {},
   "outputs": [],
   "source": [
    "\n"
   ]
  },
  {
   "cell_type": "code",
   "execution_count": 52,
   "metadata": {},
   "outputs": [],
   "source": []
  },
  {
   "cell_type": "code",
   "execution_count": 37,
   "metadata": {},
   "outputs": [
    {
     "data": {
      "text/plain": [
       "1710"
      ]
     },
     "execution_count": 37,
     "metadata": {},
     "output_type": "execute_result"
    }
   ],
   "source": [
    "# sum(x[1][1] for x in distances)"
   ]
  },
  {
   "cell_type": "code",
   "execution_count": null,
   "metadata": {},
   "outputs": [],
   "source": [
    "#[(x[1][1], x[1][2]) for x in distances if x[2] == 1] just to see what we get"
   ]
  },
  {
   "cell_type": "code",
   "execution_count": 41,
   "metadata": {},
   "outputs": [
    {
     "data": {
      "text/plain": [
       "(1234, 1282)"
      ]
     },
     "execution_count": 41,
     "metadata": {},
     "output_type": "execute_result"
    }
   ],
   "source": [
    "#n, m = sum(x[1][1] for x in distances if x[2] == 1), sum(x[1][2] for x in distances if x[2] == 1) to get sum"
   ]
  },
  {
   "cell_type": "code",
   "execution_count": null,
   "metadata": {},
   "outputs": [],
   "source": [
    "n, m = mean([x[1][1] for x in distances if x[2] == 1]), sum([x[1][2] for x in distances if x[2] == 1])"
   ]
  },
  {
   "cell_type": "code",
   "execution_count": 28,
   "metadata": {},
   "outputs": [
    {
     "data": {
      "text/plain": [
       "((37, 14), 2, 6.708203932499369)"
      ]
     },
     "execution_count": 28,
     "metadata": {},
     "output_type": "execute_result"
    }
   ],
   "source": [
    "temp_p = distances[1]"
   ]
  },
  {
   "cell_type": "code",
   "execution_count": 29,
   "metadata": {},
   "outputs": [
    {
     "data": {
      "text/plain": [
       "2-element Array{Tuple{Int64,Int64},1}:\n",
       " (1, 39) \n",
       " (40, 20)"
      ]
     },
     "execution_count": 29,
     "metadata": {},
     "output_type": "execute_result"
    }
   ],
   "source": [
    "centers"
   ]
  },
  {
   "cell_type": "code",
   "execution_count": 32,
   "metadata": {},
   "outputs": [
    {
     "data": {
      "text/plain": [
       "40-element Array{Tuple{Int64,Int64},1}:\n",
       " (37, 14)\n",
       " (45, 65)\n",
       " (34, 7) \n",
       " (24, 11)\n",
       " (4, 30) \n",
       " (36, 43)\n",
       " (6, 21) \n",
       " (24, 14)\n",
       " (29, 37)\n",
       " (19, 13)\n",
       " (13, 63)\n",
       " (48, 65)\n",
       " (35, 44)\n",
       " ⋮       \n",
       " (51, 56)\n",
       " (55, 52)\n",
       " (62, 72)\n",
       " (61, 71)\n",
       " (59, 52)\n",
       " (63, 64)\n",
       " (48, 59)\n",
       " (58, 67)\n",
       " (70, 54)\n",
       " (69, 56)\n",
       " (49, 49)\n",
       " (65, 60)"
      ]
     },
     "execution_count": 32,
     "metadata": {},
     "output_type": "execute_result"
    }
   ],
   "source": [
    "X"
   ]
  },
  {
   "cell_type": "markdown",
   "metadata": {},
   "source": [
    "#### This is a work in progress....getting syntax error"
   ]
  },
  {
   "cell_type": "code",
   "execution_count": 46,
   "metadata": {},
   "outputs": [
    {
     "ename": "MethodError",
     "evalue": "MethodError: no method matching k_Means_Assignment(::Array{Tuple{Int64,Int64},1}, ::Int64)\nClosest candidates are:\n  k_Means_Assignment(::Any, ::Any, !Matched::Any) at In[43]:2",
     "output_type": "error",
     "traceback": [
      "MethodError: no method matching k_Means_Assignment(::Array{Tuple{Int64,Int64},1}, ::Int64)\nClosest candidates are:\n  k_Means_Assignment(::Any, ::Any, !Matched::Any) at In[43]:2",
      "",
      "Stacktrace:",
      " [1] top-level scope at In[46]:1"
     ]
    }
   ],
   "source": [
    "k_Means_Assignment(X, 2)"
   ]
  },
  {
   "cell_type": "code",
   "execution_count": null,
   "metadata": {},
   "outputs": [],
   "source": []
  },
  {
   "cell_type": "code",
   "execution_count": null,
   "metadata": {},
   "outputs": [],
   "source": []
  },
  {
   "cell_type": "code",
   "execution_count": null,
   "metadata": {},
   "outputs": [],
   "source": []
  },
  {
   "cell_type": "code",
   "execution_count": 48,
   "metadata": {},
   "outputs": [
    {
     "ename": "MethodError",
     "evalue": "MethodError: no method matching (::Colon)(::Int64, ::Array{Tuple{Int64,Int64},1})\nClosest candidates are:\n  Colon(::T<:Real, ::Any, !Matched::T<:Real) where T<:Real at range.jl:40\n  Colon(::A<:Real, ::Any, !Matched::C<:Real) where {A<:Real, C<:Real} at range.jl:10\n  Colon(::T, ::Any, !Matched::T) where T at range.jl:39\n  ...",
     "output_type": "error",
     "traceback": [
      "MethodError: no method matching (::Colon)(::Int64, ::Array{Tuple{Int64,Int64},1})\nClosest candidates are:\n  Colon(::T<:Real, ::Any, !Matched::T<:Real) where T<:Real at range.jl:40\n  Colon(::A<:Real, ::Any, !Matched::C<:Real) where {A<:Real, C<:Real} at range.jl:10\n  Colon(::T, ::Any, !Matched::T) where T at range.jl:39\n  ...",
      "",
      "Stacktrace:",
      " [1] k_Means_Assignment(::Array{Tuple{Int64,Int64},1}, ::Array{Tuple{Int64,Int64},1}, ::Int64) at .\\In[43]:2",
      " [2] k_Means_Clustering(::Array{Tuple{Int64,Int64},1}, ::Int64, ::Float64) at .\\In[43]:21",
      " [3] top-level scope at In[48]:1"
     ]
    }
   ],
   "source": [
    "Centers = k_Means_Clustering(X, 2, 0.05)"
   ]
  },
  {
   "cell_type": "code",
   "execution_count": 47,
   "metadata": {},
   "outputs": [
    {
     "ename": "UndefVarError",
     "evalue": "UndefVarError: Centers not defined",
     "output_type": "error",
     "traceback": [
      "UndefVarError: Centers not defined",
      "",
      "Stacktrace:",
      " [1] (::getfield(Main, Symbol(\"##119#121\")){Tuple{Int64,Int64}})(::Int64) at .\\none:0",
      " [2] iterate at .\\generator.jl:47 [inlined]",
      " [3] collect(::Base.Generator{UnitRange{Int64},getfield(Main, Symbol(\"##119#121\")){Tuple{Int64,Int64}}}) at .\\array.jl:619",
      " [4] top-level scope at In[47]:2"
     ]
    }
   ],
   "source": [
    "for p in X\n",
    "    temp_distances = [(j, distance(p, Centers[j])) for j = 1:2]\n",
    "    sort!(temp_distances, by = x -> x[2])\n",
    "    plot!([p, Centers[temp_distances[1][1]]],\n",
    "        color = temp_distances[1][1] == 1 ? \"blue\" : \"red\")\n",
    "end\n",
    "plot!()"
   ]
  },
  {
   "cell_type": "code",
   "execution_count": null,
   "metadata": {},
   "outputs": [],
   "source": []
  },
  {
   "cell_type": "code",
   "execution_count": null,
   "metadata": {},
   "outputs": [],
   "source": []
  }
 ],
 "metadata": {
  "kernelspec": {
   "display_name": "Julia 1.0.3",
   "language": "julia",
   "name": "julia-1.0"
  },
  "language_info": {
   "file_extension": ".jl",
   "mimetype": "application/julia",
   "name": "julia",
   "version": "1.0.3"
  }
 },
 "nbformat": 4,
 "nbformat_minor": 2
}
